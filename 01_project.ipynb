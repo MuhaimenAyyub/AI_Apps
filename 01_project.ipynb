{
 "cells": [
  {
   "cell_type": "markdown",
   "metadata": {},
   "source": [
    "# Trip Planner"
   ]
  },
  {
   "cell_type": "code",
   "execution_count": 10,
   "metadata": {},
   "outputs": [
    {
     "name": "stdout",
     "output_type": "stream",
     "text": [
      "Welcome to Kayak 3.0. Let's plan an adventure\n",
      "I can help you choose\n",
      "Head to new your city\n",
      "check out the met museum\n",
      "Enter for a chance to win a free trip\n",
      "Enjoy your trip\n"
     ]
    }
   ],
   "source": [
    "print(\"Welcome to Kayak 3.0. Let's plan an adventure\")\n",
    "enter = int(input(\"1 - start or 2 - quit\"))\n",
    "while enter == 1:\n",
    "    destination = input(\"do you have a destination in mind?\").lower()\n",
    "    if destination == \"Yes\":\n",
    "        print(\"Let's plan you trip\")\n",
    "        transport = input(\"plane/train or car\").lower()\n",
    "        if transport == \"plane\":\n",
    "            class_type = input(\"Which fare would you like? (First/Business/Economy):\").lower()\n",
    "            luggage = int(input(\"Enter weight in Kg's:\"))\n",
    "            if luggage >= 21 and class_type == \"business\" or class_type == \"first\":\n",
    "                print(\"Great! You can have this weight with these classes\")\n",
    "            elif luggage <21 and class_type == \"business\" or class_type == \"first\":\n",
    "                print(\"You can bring more if you want: \")\n",
    "            else:\n",
    "                print(\"You may have too much\")\n",
    "        elif transport == \"train\":\n",
    "            seat_class = input(\"Economy or business: \").lower()\n",
    "            if seat_class == \"business\":\n",
    "                print(\"Great ccomfort your way\")\n",
    "            elif seat_class == \"economy\":\n",
    "                print(\"You save more this way\")\n",
    "            else:\n",
    "                print(\"We don't have that class\")\n",
    "        elif transport == \"car\":\n",
    "            print(\"Road trips are fun!\")\n",
    "            num_people = int(input(\"How many people\"))\n",
    "            if num_people <= 4:\n",
    "                print(\"You could rent a car\")\n",
    "            else:\n",
    "                print(\"You may want to rent a van\")\n",
    "            \n",
    "        else:\n",
    "            print(\"We don't have that transport type...\")\n",
    "        \n",
    "    else:\n",
    "        print(\"I can help you choose\")\n",
    "        trip_type = input(\"Beach/City/Adventure\").lower()\n",
    "        if trip_type == \"beach\":\n",
    "            print(\"How about Hawaii?\")\n",
    "            beach_type = input(\"popular/remote beach? \").lower()\n",
    "            if beach_type == \"popular\":\n",
    "                print(\"Check out Waikiki beach near Honolulu!\")\n",
    "            elif beach_type == \"remote\":\n",
    "                print(\"Head over to Maui\")\n",
    "            else:\n",
    "                print(\"We don't have that option\")\n",
    "        elif trip_type == \"city\":\n",
    "            print(\"Head to new your city\")\n",
    "            activity = input(\"Indoor or Outdoor? \").lower()\n",
    "            if activity == \"indoor\":\n",
    "                print(\"check out the met museum\")\n",
    "            elif activity  == \"outdoor\":\n",
    "                print(\"Realx in central park\")\n",
    "            else:\n",
    "                print(\"We don't have that option\")\n",
    "        elif trip_type == \"adventure\":\n",
    "            print(\"How about a hike?\")\n",
    "            outdoor_activity  = input(\"Hike or camping? \").lower()\n",
    "            if outdoor_activity == \"hiking\":\n",
    "                print(\"Try hiking half dome\")\n",
    "            elif outdoor_activity == \"camping\":\n",
    "                print(\"Check out many camping sites\")\n",
    "            else:\n",
    "                print(\"That activity is not offered\")\n",
    "        else:\n",
    "            print(\"We don't have that type of trip\")\n",
    "    \n",
    "    print(\"Enter for a chance to win a free trip\")\n",
    "    for i in range(1):\n",
    "        if input(\"What is the largest desert in the world\") == \"antarctica\":\n",
    "            print(\"Wow! you win a FREE trip\")\n",
    "            \n",
    "    enter = int(input(\"1 - start or 2 - quit\"))\n",
    "print(\"Enjoy your trip\")"
   ]
  }
 ],
 "metadata": {
  "kernelspec": {
   "display_name": "Python 3",
   "language": "python",
   "name": "python3"
  },
  "language_info": {
   "codemirror_mode": {
    "name": "ipython",
    "version": 3
   },
   "file_extension": ".py",
   "mimetype": "text/x-python",
   "name": "python",
   "nbconvert_exporter": "python",
   "pygments_lexer": "ipython3",
   "version": "3.12.5"
  }
 },
 "nbformat": 4,
 "nbformat_minor": 2
}
