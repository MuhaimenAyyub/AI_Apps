{
 "cells": [
  {
   "cell_type": "markdown",
   "metadata": {},
   "source": [
    "# Challanges"
   ]
  },
  {
   "cell_type": "markdown",
   "metadata": {},
   "source": [
    "## Challange No. 1\n",
    "Similar to our slides, create a passcode checker  \n",
    "if the passcode contains an invalid character, print the invalid symbol"
   ]
  },
  {
   "cell_type": "code",
   "execution_count": 3,
   "metadata": {},
   "outputs": [
    {
     "name": "stdout",
     "output_type": "stream",
     "text": [
      "Password is invalid: %\n"
     ]
    }
   ],
   "source": [
    "password = input(\"Enter your password\")\n",
    "invalid = \"!@#$%^&*()_+\"\n",
    "for letter in password:\n",
    "    if letter in invalid:\n",
    "        print(\"Password is invalid:\", letter)"
   ]
  },
  {
   "cell_type": "code",
   "execution_count": 6,
   "metadata": {},
   "outputs": [],
   "source": [
    "username = input(\"Enter your name: \")\n",
    "invalid = \"MUHAIMEN\"\n",
    "\n",
    "for letter in username:\n",
    "    if letter in invalid:\n",
    "        print(\"All lower case plaese:\", letter)"
   ]
  },
  {
   "cell_type": "markdown",
   "metadata": {},
   "source": [
    "## Challange No. 2\n",
    "create a program that counts vowels in a word  \n",
    "The program takes an input for a single word  \n",
    "loops through the word and checks for vowels  \n",
    "At the end, print off the number of vowels in the word  "
   ]
  },
  {
   "cell_type": "code",
   "execution_count": 9,
   "metadata": {},
   "outputs": [
    {
     "name": "stdout",
     "output_type": "stream",
     "text": [
      "There are 4 vowels in the word\n"
     ]
    }
   ],
   "source": [
    "vowels = \"aeiou\"\n",
    "const = \"bcdfghjklmnpqrestvwxyz\"\n",
    "\n",
    "word = input('Enter a word')\n",
    "vowel_number = 0\n",
    "\n",
    "for letter in word:\n",
    "    if letter in vowels:\n",
    "        vowel_number += 1\n",
    "    elif letter in const:\n",
    "        vowel_number +=  0\n",
    "print(\"There are\", vowel_number, \"vowels in the word\")"
   ]
  },
  {
   "cell_type": "markdown",
   "metadata": {},
   "source": [
    "## Challange No. 3\n",
    "Create a program that checks for a valid phone number  \n",
    "if the program contains anything besides a number  \n",
    "print off 'invalid phone number!' and break the loop"
   ]
  },
  {
   "cell_type": "code",
   "execution_count": 14,
   "metadata": {},
   "outputs": [],
   "source": [
    "phone = input(\"Enter a phone number\")\n",
    "valid = \"0123456789+\"\n",
    "\n",
    "for number in phone:\n",
    "    if number not in valid:\n",
    "        print(\"Not a vlid number\")"
   ]
  },
  {
   "cell_type": "markdown",
   "metadata": {},
   "source": [
    "## Challange No. 4\n",
    "Create a program that takes a number of guests  \n",
    "for each guest ask their name and age  \n",
    "if the guests age is 18 or older, welcome the user  \n",
    "otherwise, tell them they must be 18 to drink"
   ]
  },
  {
   "cell_type": "code",
   "execution_count": 16,
   "metadata": {},
   "outputs": [
    {
     "name": "stdout",
     "output_type": "stream",
     "text": [
      "Welcome Noor\n",
      "Sorry momo you are not allowed to enter\n",
      "Welcome Mama\n"
     ]
    }
   ],
   "source": [
    "guests = int(input(\"Enter number of guests: \"))\n",
    "for i in range(guests):\n",
    "    name = input(\"Enter guest name: \")\n",
    "    age = int(input(\"Enter your age\"))\n",
    "    if age >= 18:\n",
    "        print(\"Welcome\", name)\n",
    "    else:\n",
    "        print(\"Sorry\", name, \"you are not allowed to enter\")"
   ]
  },
  {
   "cell_type": "markdown",
   "metadata": {},
   "source": [
    "## Challange No. 5\n",
    "A user has 5 chances to login into an account  \n",
    "Their username is 'admin' and their password is '12345'  \n",
    "print off how many tries it took them to login in  \n",
    "if they enter wrong 5 times, print off 'You are not the Admin!'"
   ]
  },
  {
   "cell_type": "code",
   "execution_count": 3,
   "metadata": {},
   "outputs": [
    {
     "name": "stdout",
     "output_type": "stream",
     "text": [
      "You are not the Admin\n"
     ]
    }
   ],
   "source": [
    "for i in range(5):\n",
    "    username = input(\"Enter your user name\")\n",
    "    passcode = input(\"Enter your passcode\")\n",
    "    if username == \"admin\" and passcode == \"12345\":\n",
    "        print(\"Welcome Admin\")\n",
    "        break\n",
    "if username != \"admin\" or passcode != \"12345\":\n",
    "    print(\"You are not the Admin\")"
   ]
  }
 ],
 "metadata": {
  "kernelspec": {
   "display_name": "Python 3",
   "language": "python",
   "name": "python3"
  },
  "language_info": {
   "codemirror_mode": {
    "name": "ipython",
    "version": 3
   },
   "file_extension": ".py",
   "mimetype": "text/x-python",
   "name": "python",
   "nbconvert_exporter": "python",
   "pygments_lexer": "ipython3",
   "version": "3.12.5"
  }
 },
 "nbformat": 4,
 "nbformat_minor": 2
}
